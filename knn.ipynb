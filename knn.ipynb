{
 "cells": [
  {
   "cell_type": "code",
   "execution_count": 2,
   "metadata": {},
   "outputs": [],
   "source": [
    "import pandas as pd\n",
    "\n",
    "\n",
    "# Load the dataset\n",
    "df = pd.read_csv(\"datasets/pupil-enrollment-2010-2015.csv\")"
   ]
  },
  {
   "cell_type": "code",
   "execution_count": 8,
   "metadata": {},
   "outputs": [
    {
     "name": "stdout",
     "output_type": "stream",
     "text": [
      "Shape of X before: (11702, 1)\n",
      "Shape of y before: (11702,)\n",
      "Shape of X after: (11682, 1)\n"
     ]
    }
   ],
   "source": [
    "from sklearn.preprocessing import StandardScaler\n",
    "\n",
    "# Load the data into X and y variables\n",
    "X = df[['Total P1 Boys Enrollment']]  # Independent variable(s)\n",
    "y = df['Total P1 Girls Enrollment']  # Dependent variable\n",
    "\n",
    "# Print the shape of X and y to verify the dimensions\n",
    "print(\"Shape of X before:\", X.shape)\n",
    "print(\"Shape of y before:\", y.shape)\n",
    "\n",
    "# Remove rows with NaN values from X and y\n",
    "cleaned_data = pd.concat([X, y], axis=1).dropna()\n",
    "X = cleaned_data[['Total P1 Boys Enrollment']]\n",
    "y = cleaned_data['Total P1 Girls Enrollment']\n",
    "\n",
    "# Scale the X data\n",
    "scaler = StandardScaler()\n",
    "X_scaled = scaler.fit_transform(X)\n",
    "\n",
    "# Print the shape of X after scaling\n",
    "print(\"Shape of X after:\", X_scaled.shape)\n"
   ]
  },
  {
   "cell_type": "code",
   "execution_count": 9,
   "metadata": {},
   "outputs": [
    {
     "name": "stdout",
     "output_type": "stream",
     "text": [
      "[50.6 64.6 30.  ... 41.8 15.  39. ]\n",
      "R-squared score (KNN): 0.7562816110265751\n",
      "Root Mean Squared Error (RMSE) (KNN): 22.529211959755703\n"
     ]
    }
   ],
   "source": [
    "from sklearn.neighbors import KNeighborsRegressor\n",
    "from sklearn.metrics import r2_score, mean_squared_error\n",
    "from sklearn.model_selection import train_test_split\n",
    "import numpy as np\n",
    "\n",
    "\n",
    "# Split the data into training and testing sets\n",
    "X_train, X_test, y_train, y_test = train_test_split(X, y, test_size=0.2, random_state=42)\n",
    "\n",
    "# Create and train the KNN regression model\n",
    "k = 5  # Number of neighbors\n",
    "model = KNeighborsRegressor(n_neighbors=k)\n",
    "model.fit(X_train, y_train)\n",
    "\n",
    "# Make predictions on the test set\n",
    "y_pred = model.predict(X_test)\n",
    "print(y_pred)\n",
    "\n",
    "# Calculate R-squared score\n",
    "r2 = r2_score(y_test, y_pred)\n",
    "print(\"R-squared score (KNN):\", r2)\n",
    "\n",
    "# Calculate RMSE\n",
    "rmse = np.sqrt(mean_squared_error(y_test, y_pred))\n",
    "print(\"Root Mean Squared Error (RMSE) (KNN):\", rmse)"
   ]
  }
 ],
 "metadata": {
  "kernelspec": {
   "display_name": "Python 3",
   "language": "python",
   "name": "python3"
  },
  "language_info": {
   "codemirror_mode": {
    "name": "ipython",
    "version": 3
   },
   "file_extension": ".py",
   "mimetype": "text/x-python",
   "name": "python",
   "nbconvert_exporter": "python",
   "pygments_lexer": "ipython3",
   "version": "3.10.7"
  }
 },
 "nbformat": 4,
 "nbformat_minor": 2
}
