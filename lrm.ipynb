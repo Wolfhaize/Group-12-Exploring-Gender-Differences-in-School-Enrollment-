{
 "cells": [
  {
   "cell_type": "markdown",
   "metadata": {},
   "source": [
    "### Linear Regression\n"
   ]
  },
  {
   "cell_type": "code",
   "execution_count": 1,
   "metadata": {},
   "outputs": [],
   "source": [
    "import pandas as pd\n",
    "\n",
    "\n",
    "\n",
    "# Load the dataset\n",
    "df = pd.read_csv(\"datasets/pupil-enrollment-2010-2015.csv\")\n",
    "\n"
   ]
  },
  {
   "cell_type": "code",
   "execution_count": null,
   "metadata": {},
   "outputs": [],
   "source": [
    "from sklearn.preprocessing import StandardScaler, OneHotEncoder\n",
    "from sklearn.compose import ColumnTransformer\n",
    "\n",
    "# Load the data into X and y variables\n",
    "X = df[['Total P1 Boys Enrollment', 'Year', 'District ID']]  # Independent variable(s)\n",
    "y = df['Total P1 Girls Enrollment']  # Dependent variable\n",
    "\n",
    "\n",
    "# Remove rows with NaN values from X and y\n",
    "cleaned_data = pd.concat([X, y], axis=1).dropna()\n",
    "X = cleaned_data[['Total P1 Boys Enrollment', 'Year', 'District ID']]\n",
    "y = cleaned_data['Total P1 Girls Enrollment']\n",
    "\n",
    "# Define the preprocessing steps for encoding and scaling\n",
    "preprocessor = ColumnTransformer(\n",
    "    transformers=[\n",
    "        ('encoder', OneHotEncoder(), ['Year', 'District ID']),\n",
    "        ('scaler', StandardScaler(), ['Total P1 Boys Enrollment'])\n",
    "    ])\n",
    "\n",
    "# Apply preprocessing to X\n",
    "X_processed = preprocessor.fit_transform(X)\n",
    "\n"
   ]
  },
  {
   "cell_type": "code",
   "execution_count": 3,
   "metadata": {},
   "outputs": [
    {
     "name": "stdout",
     "output_type": "stream",
     "text": [
      "[55.42523274 68.30471505 31.08931622 ... 44.3068684  25.2633299\n",
      " 39.79119039]\n",
      "R-squared score: 0.8042197125396413\n",
      "Root Mean Squared Error (RMSE): 20.19232522615958\n"
     ]
    }
   ],
   "source": [
    "from sklearn.linear_model import LinearRegression\n",
    "from sklearn.metrics import r2_score, mean_squared_error\n",
    "from sklearn.model_selection import train_test_split\n",
    "import numpy as np\n",
    "\n",
    "\n",
    "# Split the data into training and testing sets\n",
    "X_train, X_test, y_train, y_test = train_test_split(X, y, test_size=0.2, random_state=42)\n",
    "\n",
    "# Create and train the linear regression model\n",
    "model = LinearRegression()\n",
    "model.fit(X_train, y_train)\n",
    "\n",
    "# Make predictions on the test set\n",
    "y_pred = model.predict(X_test)\n",
    "print(y_pred)\n",
    "\n",
    "# Calculate R-squared score\n",
    "r2 = r2_score(y_test, y_pred)\n",
    "print(\"R-squared score:\", r2)\n",
    "\n",
    "# Calculate RMSE\n",
    "rmse = np.sqrt(mean_squared_error(y_test, y_pred))\n",
    "print(\"Root Mean Squared Error (RMSE):\", rmse)"
   ]
  }
 ],
 "metadata": {
  "kernelspec": {
   "display_name": "Python 3",
   "language": "python",
   "name": "python3"
  },
  "language_info": {
   "codemirror_mode": {
    "name": "ipython",
    "version": 3
   },
   "file_extension": ".py",
   "mimetype": "text/x-python",
   "name": "python",
   "nbconvert_exporter": "python",
   "pygments_lexer": "ipython3",
   "version": "3.10.7"
  }
 },
 "nbformat": 4,
 "nbformat_minor": 2
}
